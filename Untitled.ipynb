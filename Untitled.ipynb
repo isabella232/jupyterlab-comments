{
 "cells": [
  {
   "cell_type": "code",
   "execution_count": null,
   "id": "b2cae736-1645-4837-a17b-f850fea6e3bc",
   "metadata": {},
   "outputs": [],
   "source": [
    "insert text here imports one\n",
    "\n",
    "insert text here sfsd\n",
    "\n",
    "insert text here imports three\n",
    "insert text here imports four\n",
    "\n",
    "insert text here imports five"
   ]
  }
 ],
 "metadata": {
  "kernelspec": {
   "display_name": "Python 3",
   "language": "python",
   "name": "python3"
  },
  "language_info": {
   "codemirror_mode": {
    "name": "ipython",
    "version": 3
   },
   "file_extension": ".py",
   "mimetype": "text/x-python",
   "name": "python",
   "nbconvert_exporter": "python",
   "pygments_lexer": "ipython3",
   "version": "3.9.4"
  }
 },
 "nbformat": 4,
 "nbformat_minor": 5
}
